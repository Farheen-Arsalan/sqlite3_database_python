{
  "nbformat": 4,
  "nbformat_minor": 0,
  "metadata": {
    "colab": {
      "provenance": []
    },
    "kernelspec": {
      "name": "python3",
      "display_name": "Python 3"
    },
    "language_info": {
      "name": "python"
    },
    "accelerator": "GPU"
  },
  "cells": [
    {
      "cell_type": "code",
      "execution_count": null,
      "metadata": {
        "colab": {
          "base_uri": "https://localhost:8080/"
        },
        "id": "6l2CD8tfZaC3",
        "outputId": "fff6c753-0fea-4d91-9cb2-dc410c2120be"
      },
      "outputs": [
        {
          "output_type": "stream",
          "name": "stdout",
          "text": [
            "Looking in indexes: https://pypi.org/simple, https://us-python.pkg.dev/colab-wheels/public/simple/\n",
            "Collecting db-sqlite3\n",
            "  Downloading db-sqlite3-0.0.1.tar.gz (1.4 kB)\n",
            "Collecting db\n",
            "  Downloading db-0.1.1.tar.gz (3.4 kB)\n",
            "Collecting antiorm\n",
            "  Downloading antiorm-1.2.1.tar.gz (171 kB)\n",
            "\u001b[K     |████████████████████████████████| 171 kB 7.3 MB/s \n",
            "\u001b[?25hBuilding wheels for collected packages: db-sqlite3, db, antiorm\n",
            "  Building wheel for db-sqlite3 (setup.py) ... \u001b[?25l\u001b[?25hdone\n",
            "  Created wheel for db-sqlite3: filename=db_sqlite3-0.0.1-py3-none-any.whl size=1794 sha256=d4a8562ebc29c4d50690ef1a0c1337622a80aeb06eed8da1fc1faaba96d58787\n",
            "  Stored in directory: /root/.cache/pip/wheels/02/38/d5/2f54461050571bf5330fee2a37ab1c9b5e7540b0572f1acdab\n",
            "  Building wheel for db (setup.py) ... \u001b[?25l\u001b[?25hdone\n",
            "  Created wheel for db: filename=db-0.1.1-py3-none-any.whl size=3895 sha256=9301c34f7db342a1e17650242c5bcf5d60e4a6744ffb918f3bab9ad645d75e47\n",
            "  Stored in directory: /root/.cache/pip/wheels/8e/97/82/741d2b360507411ec233d0280d7371faa94b03bde834e4a9be\n",
            "  Building wheel for antiorm (setup.py) ... \u001b[?25l\u001b[?25hdone\n",
            "  Created wheel for antiorm: filename=antiorm-1.2.1-py3-none-any.whl size=31679 sha256=a6ba9c6cabd3e5d90defe67d967649bd46eb8786ad0fca06cced64e9d5af628e\n",
            "  Stored in directory: /root/.cache/pip/wheels/c5/43/70/e9729370cfff40c49d3e3d05377d54b3ecd71f64e62341ea80\n",
            "Successfully built db-sqlite3 db antiorm\n",
            "Installing collected packages: antiorm, db, db-sqlite3\n",
            "Successfully installed antiorm-1.2.1 db-0.1.1 db-sqlite3-0.0.1\n"
          ]
        }
      ],
      "source": [
        "! pip install db-sqlite3"
      ]
    },
    {
      "cell_type": "code",
      "source": [
        "import sqlite3\n",
        "db = sqlite3.connect('demo.db')\n",
        "print(\"Opened DAtabase Successfully\")"
      ],
      "metadata": {
        "colab": {
          "base_uri": "https://localhost:8080/"
        },
        "id": "1D4gfCXsytSo",
        "outputId": "493dbb38-b1c3-4aee-ea27-3e0c5590aded"
      },
      "execution_count": null,
      "outputs": [
        {
          "output_type": "stream",
          "name": "stdout",
          "text": [
            "Opened DAtabase Successfully\n"
          ]
        }
      ]
    },
    {
      "cell_type": "code",
      "source": [
        "# create the table \n",
        "db = sqlite3.connect('demo.db')\n",
        "cmd = \"CREATE TABLE LISRC (ID INT, NAME TEXT, AGE INT,SALARY REAL);\"\n",
        "db.execute(cmd)\n"
      ],
      "metadata": {
        "colab": {
          "base_uri": "https://localhost:8080/",
          "height": 209
        },
        "id": "MH0n86OozEf2",
        "outputId": "3bd884be-0179-4cbc-8b8d-db23484265fb"
      },
      "execution_count": null,
      "outputs": [
        {
          "output_type": "error",
          "ename": "OperationalError",
          "evalue": "ignored",
          "traceback": [
            "\u001b[0;31m---------------------------------------------------------------------------\u001b[0m",
            "\u001b[0;31mOperationalError\u001b[0m                          Traceback (most recent call last)",
            "\u001b[0;32m<ipython-input-7-88de1ea4243e>\u001b[0m in \u001b[0;36m<module>\u001b[0;34m\u001b[0m\n\u001b[1;32m      2\u001b[0m \u001b[0mdb\u001b[0m \u001b[0;34m=\u001b[0m \u001b[0msqlite3\u001b[0m\u001b[0;34m.\u001b[0m\u001b[0mconnect\u001b[0m\u001b[0;34m(\u001b[0m\u001b[0;34m'demo.db'\u001b[0m\u001b[0;34m)\u001b[0m\u001b[0;34m\u001b[0m\u001b[0;34m\u001b[0m\u001b[0m\n\u001b[1;32m      3\u001b[0m \u001b[0mcmd\u001b[0m \u001b[0;34m=\u001b[0m \u001b[0;34m\"CREATE TABLE LISRC (ID INT, NAME TEXT, AGE INT,SALARY REAL);\"\u001b[0m\u001b[0;34m\u001b[0m\u001b[0;34m\u001b[0m\u001b[0m\n\u001b[0;32m----> 4\u001b[0;31m \u001b[0mdb\u001b[0m\u001b[0;34m.\u001b[0m\u001b[0mexecute\u001b[0m\u001b[0;34m(\u001b[0m\u001b[0mcmd\u001b[0m\u001b[0;34m)\u001b[0m\u001b[0;34m\u001b[0m\u001b[0;34m\u001b[0m\u001b[0m\n\u001b[0m",
            "\u001b[0;31mOperationalError\u001b[0m: table LISRC already exists"
          ]
        }
      ]
    },
    {
      "cell_type": "code",
      "source": [
        "# insert few data samples \n",
        "db.execute(\"INSERT INTO LISRC (ID,NAME, AGE,SALARY) VALUES (1,'VASEEM',37,20000)\")\n",
        "db.execute(\"INSERT INTO LISRC (ID,NAME, AGE,SALARY) VALUES (2,'FARHEEN',24,30000)\")\n",
        "db.execute(\"INSERT INTO LISRC (ID,NAME, AGE,SALARY) VALUES (3,'NEELESH',23,35000)\")\n",
        "db.execute(\"INSERT INTO LISRC (ID,NAME, AGE,SALARY) VALUES (4,'BALU',21,25000)\")\n",
        "db.execute(\"INSERT INTO LISRC (ID,NAME, AGE,SALARY) VALUES (5,'HADDAD',28,22000)\")\n",
        "db.commit()\n",
        "print(\"Data Saved\")\n",
        "db.close()"
      ],
      "metadata": {
        "colab": {
          "base_uri": "https://localhost:8080/"
        },
        "id": "3euZzqiVzpZK",
        "outputId": "5c510822-a7ab-42ac-80f6-8a2f2df80d74"
      },
      "execution_count": null,
      "outputs": [
        {
          "output_type": "stream",
          "name": "stdout",
          "text": [
            "Data Saved\n"
          ]
        }
      ]
    },
    {
      "cell_type": "code",
      "source": [
        "db = sqlite3.connect('demo.db')\n",
        "\n",
        "hand = db.execute(\"SELECT * from LISRC\")\n",
        "print(hand)\n",
        "for val in hand:\n",
        "  #print(val)\n",
        "  print(\"Name: \",val[1])"
      ],
      "metadata": {
        "colab": {
          "base_uri": "https://localhost:8080/"
        },
        "id": "zvkm7S3t00Cs",
        "outputId": "414d51db-1690-4218-cdc9-43af25cf2d74"
      },
      "execution_count": null,
      "outputs": [
        {
          "output_type": "stream",
          "name": "stdout",
          "text": [
            "<sqlite3.Cursor object at 0x7f0c7c42bf80>\n",
            "Name:  VASEEM\n",
            "Name:  FARHEEN\n",
            "Name:  NEELESH\n",
            "Name:  BALU\n",
            "Name:  HADDAD\n"
          ]
        }
      ]
    },
    {
      "cell_type": "code",
      "source": [
        "# update any sample\n",
        "qry = \"UPDATE LISRC set SALARY = 38000 WHERE ID =5\"\n",
        "db.execute(qry)\n",
        "db.commit()\n",
        "hand = db.execute(\"SELECT * from LISRC\")\n",
        "print(hand)\n",
        "for val in hand:\n",
        "  #print(val)\n",
        "  print(\"Name: \",val[1])\n",
        "  print(\"SALARY: \",val[3])\n",
        "\n",
        "\n"
      ],
      "metadata": {
        "colab": {
          "base_uri": "https://localhost:8080/"
        },
        "id": "Jbit9QsY1cOX",
        "outputId": "eebecc43-a64e-4090-f668-2990ff163976"
      },
      "execution_count": null,
      "outputs": [
        {
          "output_type": "stream",
          "name": "stdout",
          "text": [
            "<sqlite3.Cursor object at 0x7f0c7c425f10>\n",
            "Name:  VASEEM\n",
            "SALARY:  20000.0\n",
            "Name:  FARHEEN\n",
            "SALARY:  30000.0\n",
            "Name:  NEELESH\n",
            "SALARY:  35000.0\n",
            "Name:  BALU\n",
            "SALARY:  25000.0\n",
            "Name:  HADDAD\n",
            "SALARY:  38000.0\n"
          ]
        }
      ]
    },
    {
      "cell_type": "code",
      "source": [
        "# DELETE \n",
        "\n",
        "qry = \"DELETE FROM LISRC WHERE ID =1\"\n",
        "db.execute(qry)\n",
        "db.commit()\n",
        "hand = db.execute(\"SELECT * from LISRC\")\n",
        "print(hand)\n",
        "for val in hand:\n",
        "  #print(val)\n",
        "  print(\"Name: \",val[1])\n",
        "  print(\"SALARY: \",val[3])"
      ],
      "metadata": {
        "colab": {
          "base_uri": "https://localhost:8080/"
        },
        "id": "-LcdZvA13GBL",
        "outputId": "faae8cf7-43ba-4a5a-ccba-5b60a4fd00a6"
      },
      "execution_count": null,
      "outputs": [
        {
          "output_type": "stream",
          "name": "stdout",
          "text": [
            "<sqlite3.Cursor object at 0x7f0c7c42bdc0>\n",
            "Name:  FARHEEN\n",
            "SALARY:  30000.0\n",
            "Name:  NEELESH\n",
            "SALARY:  35000.0\n",
            "Name:  BALU\n",
            "SALARY:  25000.0\n",
            "Name:  HADDAD\n",
            "SALARY:  38000.0\n"
          ]
        }
      ]
    },
    {
      "cell_type": "code",
      "source": [
        "# read the db data in dataframe form \n",
        "import pandas as pd \n",
        "qry = \"SELECT * FROM LISRC\"\n",
        "\n",
        "data = pd.read_sql_query(qry,db)\n",
        "print(data.shape)\n",
        "print(data.head())\n",
        "data.drop(['ID','AGE'],axis=1,inplace=True)\n",
        "print(data)\n",
        "data.plot(kind = 'bar',x='NAME')\n"
      ],
      "metadata": {
        "colab": {
          "base_uri": "https://localhost:8080/",
          "height": 536
        },
        "id": "S_aOkpU-34sU",
        "outputId": "c61f29f9-649c-4e11-df18-e7b1428bafdd"
      },
      "execution_count": null,
      "outputs": [
        {
          "output_type": "stream",
          "name": "stdout",
          "text": [
            "(4, 4)\n",
            "   ID     NAME  AGE   SALARY\n",
            "0   2  FARHEEN   24  30000.0\n",
            "1   3  NEELESH   23  35000.0\n",
            "2   4     BALU   21  25000.0\n",
            "3   5   HADDAD   28  38000.0\n",
            "      NAME   SALARY\n",
            "0  FARHEEN  30000.0\n",
            "1  NEELESH  35000.0\n",
            "2     BALU  25000.0\n",
            "3   HADDAD  38000.0\n"
          ]
        },
        {
          "output_type": "execute_result",
          "data": {
            "text/plain": [
              "<matplotlib.axes._subplots.AxesSubplot at 0x7f0c74dcf990>"
            ]
          },
          "metadata": {},
          "execution_count": 12
        },
        {
          "output_type": "display_data",
          "data": {
            "text/plain": [
              "<Figure size 432x288 with 1 Axes>"
            ],
            "image/png": "[encoded data removed]"
          },
          "metadata": {
            "needs_background": "light"
          }
        }
      ]
    },
    {
      "cell_type": "code",
      "source": [
        "from google.colab import drive\n",
        "drive.mount('/gdrive')\n",
        "%cd /gdrive"
      ],
      "metadata": {
        "colab": {
          "base_uri": "https://localhost:8080/"
        },
        "id": "ZV0A0wZM5DhW",
        "outputId": "0035348a-f591-4c8a-e46c-e3e6797d3696"
      },
      "execution_count": null,
      "outputs": [
        {
          "output_type": "stream",
          "name": "stdout",
          "text": [
            "Mounted at /gdrive\n",
            "/gdrive\n"
          ]
        }
      ]
    },
    {
      "cell_type": "code",
      "source": [
        "dat = pd.read_csv('/gdrive/MyDrive/Mall_Customers.csv')\n",
        "print(dat.columns)\n",
        "print(dat.head())"
      ],
      "metadata": {
        "colab": {
          "base_uri": "https://localhost:8080/"
        },
        "id": "xE4D4vwT62Rw",
        "outputId": "799dfe2c-d9f6-48b8-eb0d-2b98a3528d6b"
      },
      "execution_count": null,
      "outputs": [
        {
          "output_type": "stream",
          "name": "stdout",
          "text": [
            "Index(['CustomerID', 'Genre', 'Age', 'Annual Income (k$)',\n",
            "       'Spending Score (1-100)'],\n",
            "      dtype='object')\n",
            "   CustomerID   Genre  Age  Annual Income (k$)  Spending Score (1-100)\n",
            "0           1    Male   19                  15                      39\n",
            "1           2    Male   21                  15                      81\n",
            "2           3  Female   20                  16                       6\n",
            "3           4  Female   23                  16                      77\n",
            "4           5  Female   31                  17                      40\n"
          ]
        }
      ]
    },
    {
      "cell_type": "code",
      "source": [
        "def psh_data_DB(cusID,gen,age,annIncome,spendingScore):\n",
        "  db1= sqlite3.connect('/gdrive/MyDrive/MALLDB.db')\n",
        "  qry = \"INSERT into MALL_DB(CustomerID,Genre,Age,AnnualIncome,SpendingScore) \\\n",
        "        VALUES('{}','{}','{}','{}','{}')\".format(cusID,gen,age,annIncome,spendingScore)\n",
        "  db1.execute(qry)\n",
        "  db1.commit()"
      ],
      "metadata": {
        "id": "EkS6amJ967ss"
      },
      "execution_count": null,
      "outputs": []
    },
    {
      "cell_type": "code",
      "source": [
        "import sqlite3\n",
        "# create the table \n",
        "db1 = sqlite3.connect(\"/gdrive/MyDrive/MALLDB.db\")\n",
        "cmd = \"CREATE TABLE MALL_DB4 (CustomerID INT, Genre TEXT, Age INT,AnnualIncome REAL,SpendingScore INT);\"\n",
        "db1.execute(cmd)"
      ],
      "metadata": {
        "colab": {
          "base_uri": "https://localhost:8080/"
        },
        "id": "gwhuAEie8jHW",
        "outputId": "2bf396de-0eac-4e3f-8abf-65141aa9a040"
      },
      "execution_count": null,
      "outputs": [
        {
          "output_type": "execute_result",
          "data": {
            "text/plain": [
              "<sqlite3.Cursor at 0x7f0c7c42bce0>"
            ]
          },
          "metadata": {},
          "execution_count": 17
        }
      ]
    },
    {
      "cell_type": "code",
      "source": [
        "psh_data_DB(1,'M',34,20000,8)\n"
      ],
      "metadata": {
        "id": "LM7Y-hZv88KY"
      },
      "execution_count": null,
      "outputs": []
    },
    {
      "cell_type": "code",
      "source": [
        "db.close()"
      ],
      "metadata": {
        "id": "9jaayE6n95VX"
      },
      "execution_count": null,
      "outputs": []
    },
    {
      "cell_type": "code",
      "source": [
        "rows,cols=dat.shape\n",
        "# print(rows)\n",
        "# print(cols)\n",
        "\n",
        "CustomerID = \"\"\n",
        "Genre = \"\"\n",
        "Age = 0\n",
        "AnnualIncome = 0\n",
        "SpendingScore = 0\n",
        "\n",
        "for i in range(rows):\n",
        "  CustomerID = dat['CustomerID'][i]\n",
        "  Genre = dat['Genre'][i]\n",
        "  Age = dat['Age'][i]\n",
        "  AnnualIncome = dat['Annual Income'][i]\n",
        "  SpendingScore = dat['Spending Score'][i]\n",
        "  if Genre == 'Male':\n",
        "    Genre ='M'\n",
        "  else:\n",
        "    Genre ='F'\n",
        "  psh_data_DB(CustomerID,Genre,Age,AnnualIncome,SpendingScore)\n",
        "\n",
        "# print(CustomerID,Genre,Age,AnnualIncome,SpendingScore)"
      ],
      "metadata": {
        "id": "3-G2YAd4-ACg",
        "colab": {
          "base_uri": "https://localhost:8080/",
          "height": 528
        },
        "outputId": "5ff0178b-6f7c-4169-ffee-189859ab124a"
      },
      "execution_count": null,
      "outputs": [
        {
          "output_type": "error",
          "ename": "KeyError",
          "evalue": "ignored",
          "traceback": [
            "\u001b[0;31m---------------------------------------------------------------------------\u001b[0m",
            "\u001b[0;31mKeyError\u001b[0m                                  Traceback (most recent call last)",
            "\u001b[0;32m/usr/local/lib/python3.7/dist-packages/pandas/core/indexes/base.py\u001b[0m in \u001b[0;36mget_loc\u001b[0;34m(self, key, method, tolerance)\u001b[0m\n\u001b[1;32m   3360\u001b[0m             \u001b[0;32mtry\u001b[0m\u001b[0;34m:\u001b[0m\u001b[0;34m\u001b[0m\u001b[0;34m\u001b[0m\u001b[0m\n\u001b[0;32m-> 3361\u001b[0;31m                 \u001b[0;32mreturn\u001b[0m \u001b[0mself\u001b[0m\u001b[0;34m.\u001b[0m\u001b[0m_engine\u001b[0m\u001b[0;34m.\u001b[0m\u001b[0mget_loc\u001b[0m\u001b[0;34m(\u001b[0m\u001b[0mcasted_key\u001b[0m\u001b[0;34m)\u001b[0m\u001b[0;34m\u001b[0m\u001b[0;34m\u001b[0m\u001b[0m\n\u001b[0m\u001b[1;32m   3362\u001b[0m             \u001b[0;32mexcept\u001b[0m \u001b[0mKeyError\u001b[0m \u001b[0;32mas\u001b[0m \u001b[0merr\u001b[0m\u001b[0;34m:\u001b[0m\u001b[0;34m\u001b[0m\u001b[0;34m\u001b[0m\u001b[0m\n",
            "\u001b[0;32m/usr/local/lib/python3.7/dist-packages/pandas/_libs/index.pyx\u001b[0m in \u001b[0;36mpandas._libs.index.IndexEngine.get_loc\u001b[0;34m()\u001b[0m\n",
            "\u001b[0;32m/usr/local/lib/python3.7/dist-packages/pandas/_libs/index.pyx\u001b[0m in \u001b[0;36mpandas._libs.index.IndexEngine.get_loc\u001b[0;34m()\u001b[0m\n",
            "\u001b[0;32mpandas/_libs/hashtable_class_helper.pxi\u001b[0m in \u001b[0;36mpandas._libs.hashtable.PyObjectHashTable.get_item\u001b[0;34m()\u001b[0m\n",
            "\u001b[0;32mpandas/_libs/hashtable_class_helper.pxi\u001b[0m in \u001b[0;36mpandas._libs.hashtable.PyObjectHashTable.get_item\u001b[0;34m()\u001b[0m\n",
            "\u001b[0;31mKeyError\u001b[0m: 'Annual Income'",
            "\nThe above exception was the direct cause of the following exception:\n",
            "\u001b[0;31mKeyError\u001b[0m                                  Traceback (most recent call last)",
            "\u001b[0;32m<ipython-input-20-8c3bced580dd>\u001b[0m in \u001b[0;36m<module>\u001b[0;34m\u001b[0m\n\u001b[1;32m     13\u001b[0m   \u001b[0mGenre\u001b[0m \u001b[0;34m=\u001b[0m \u001b[0mdat\u001b[0m\u001b[0;34m[\u001b[0m\u001b[0;34m'Genre'\u001b[0m\u001b[0;34m]\u001b[0m\u001b[0;34m[\u001b[0m\u001b[0mi\u001b[0m\u001b[0;34m]\u001b[0m\u001b[0;34m\u001b[0m\u001b[0;34m\u001b[0m\u001b[0m\n\u001b[1;32m     14\u001b[0m   \u001b[0mAge\u001b[0m \u001b[0;34m=\u001b[0m \u001b[0mdat\u001b[0m\u001b[0;34m[\u001b[0m\u001b[0;34m'Age'\u001b[0m\u001b[0;34m]\u001b[0m\u001b[0;34m[\u001b[0m\u001b[0mi\u001b[0m\u001b[0;34m]\u001b[0m\u001b[0;34m\u001b[0m\u001b[0;34m\u001b[0m\u001b[0m\n\u001b[0;32m---> 15\u001b[0;31m   \u001b[0mAnnualIncome\u001b[0m \u001b[0;34m=\u001b[0m \u001b[0mdat\u001b[0m\u001b[0;34m[\u001b[0m\u001b[0;34m'Annual Income'\u001b[0m\u001b[0;34m]\u001b[0m\u001b[0;34m[\u001b[0m\u001b[0mi\u001b[0m\u001b[0;34m]\u001b[0m\u001b[0;34m\u001b[0m\u001b[0;34m\u001b[0m\u001b[0m\n\u001b[0m\u001b[1;32m     16\u001b[0m   \u001b[0mSpendingScore\u001b[0m \u001b[0;34m=\u001b[0m \u001b[0mdat\u001b[0m\u001b[0;34m[\u001b[0m\u001b[0;34m'Spending Score'\u001b[0m\u001b[0;34m]\u001b[0m\u001b[0;34m[\u001b[0m\u001b[0mi\u001b[0m\u001b[0;34m]\u001b[0m\u001b[0;34m\u001b[0m\u001b[0;34m\u001b[0m\u001b[0m\n\u001b[1;32m     17\u001b[0m   \u001b[0;32mif\u001b[0m \u001b[0mGenre\u001b[0m \u001b[0;34m==\u001b[0m \u001b[0;34m'Male'\u001b[0m\u001b[0;34m:\u001b[0m\u001b[0;34m\u001b[0m\u001b[0;34m\u001b[0m\u001b[0m\n",
            "\u001b[0;32m/usr/local/lib/python3.7/dist-packages/pandas/core/frame.py\u001b[0m in \u001b[0;36m__getitem__\u001b[0;34m(self, key)\u001b[0m\n\u001b[1;32m   3456\u001b[0m             \u001b[0;32mif\u001b[0m \u001b[0mself\u001b[0m\u001b[0;34m.\u001b[0m\u001b[0mcolumns\u001b[0m\u001b[0;34m.\u001b[0m\u001b[0mnlevels\u001b[0m \u001b[0;34m>\u001b[0m \u001b[0;36m1\u001b[0m\u001b[0;34m:\u001b[0m\u001b[0;34m\u001b[0m\u001b[0;34m\u001b[0m\u001b[0m\n\u001b[1;32m   3457\u001b[0m                 \u001b[0;32mreturn\u001b[0m \u001b[0mself\u001b[0m\u001b[0;34m.\u001b[0m\u001b[0m_getitem_multilevel\u001b[0m\u001b[0;34m(\u001b[0m\u001b[0mkey\u001b[0m\u001b[0;34m)\u001b[0m\u001b[0;34m\u001b[0m\u001b[0;34m\u001b[0m\u001b[0m\n\u001b[0;32m-> 3458\u001b[0;31m             \u001b[0mindexer\u001b[0m \u001b[0;34m=\u001b[0m \u001b[0mself\u001b[0m\u001b[0;34m.\u001b[0m\u001b[0mcolumns\u001b[0m\u001b[0;34m.\u001b[0m\u001b[0mget_loc\u001b[0m\u001b[0;34m(\u001b[0m\u001b[0mkey\u001b[0m\u001b[0;34m)\u001b[0m\u001b[0;34m\u001b[0m\u001b[0;34m\u001b[0m\u001b[0m\n\u001b[0m\u001b[1;32m   3459\u001b[0m             \u001b[0;32mif\u001b[0m \u001b[0mis_integer\u001b[0m\u001b[0;34m(\u001b[0m\u001b[0mindexer\u001b[0m\u001b[0;34m)\u001b[0m\u001b[0;34m:\u001b[0m\u001b[0;34m\u001b[0m\u001b[0;34m\u001b[0m\u001b[0m\n\u001b[1;32m   3460\u001b[0m                 \u001b[0mindexer\u001b[0m \u001b[0;34m=\u001b[0m \u001b[0;34m[\u001b[0m\u001b[0mindexer\u001b[0m\u001b[0;34m]\u001b[0m\u001b[0;34m\u001b[0m\u001b[0;34m\u001b[0m\u001b[0m\n",
            "\u001b[0;32m/usr/local/lib/python3.7/dist-packages/pandas/core/indexes/base.py\u001b[0m in \u001b[0;36mget_loc\u001b[0;34m(self, key, method, tolerance)\u001b[0m\n\u001b[1;32m   3361\u001b[0m                 \u001b[0;32mreturn\u001b[0m \u001b[0mself\u001b[0m\u001b[0;34m.\u001b[0m\u001b[0m_engine\u001b[0m\u001b[0;34m.\u001b[0m\u001b[0mget_loc\u001b[0m\u001b[0;34m(\u001b[0m\u001b[0mcasted_key\u001b[0m\u001b[0;34m)\u001b[0m\u001b[0;34m\u001b[0m\u001b[0;34m\u001b[0m\u001b[0m\n\u001b[1;32m   3362\u001b[0m             \u001b[0;32mexcept\u001b[0m \u001b[0mKeyError\u001b[0m \u001b[0;32mas\u001b[0m \u001b[0merr\u001b[0m\u001b[0;34m:\u001b[0m\u001b[0;34m\u001b[0m\u001b[0;34m\u001b[0m\u001b[0m\n\u001b[0;32m-> 3363\u001b[0;31m                 \u001b[0;32mraise\u001b[0m \u001b[0mKeyError\u001b[0m\u001b[0;34m(\u001b[0m\u001b[0mkey\u001b[0m\u001b[0;34m)\u001b[0m \u001b[0;32mfrom\u001b[0m \u001b[0merr\u001b[0m\u001b[0;34m\u001b[0m\u001b[0;34m\u001b[0m\u001b[0m\n\u001b[0m\u001b[1;32m   3364\u001b[0m \u001b[0;34m\u001b[0m\u001b[0m\n\u001b[1;32m   3365\u001b[0m         \u001b[0;32mif\u001b[0m \u001b[0mis_scalar\u001b[0m\u001b[0;34m(\u001b[0m\u001b[0mkey\u001b[0m\u001b[0;34m)\u001b[0m \u001b[0;32mand\u001b[0m \u001b[0misna\u001b[0m\u001b[0;34m(\u001b[0m\u001b[0mkey\u001b[0m\u001b[0;34m)\u001b[0m \u001b[0;32mand\u001b[0m \u001b[0;32mnot\u001b[0m \u001b[0mself\u001b[0m\u001b[0;34m.\u001b[0m\u001b[0mhasnans\u001b[0m\u001b[0;34m:\u001b[0m\u001b[0;34m\u001b[0m\u001b[0;34m\u001b[0m\u001b[0m\n",
            "\u001b[0;31mKeyError\u001b[0m: 'Annual Income'"
          ]
        }
      ]
    },
    {
      "cell_type": "code",
      "source": [
        "qry = \"SELECT * FROM MALL_DB4\"\n",
        "\n",
        "d= pd.read_sql_query(qry,db1)\n",
        "print(d.shape)\n",
        "print(d.head())\n",
        "print(d)\n",
        "\n",
        "\n",
        "# fetch only those samples where , spending score is \n",
        "#more than 55"
      ],
      "metadata": {
        "colab": {
          "base_uri": "https://localhost:8080/"
        },
        "id": "pcj6STS4DaFe",
        "outputId": "51324040-e9d3-4a96-d20b-bbdb8d8c5d5d"
      },
      "execution_count": null,
      "outputs": [
        {
          "output_type": "stream",
          "name": "stdout",
          "text": [
            "(0, 5)\n",
            "Empty DataFrame\n",
            "Columns: [CustomerID, Genre, Age, AnnualIncome, SpendingScore]\n",
            "Index: []\n",
            "Empty DataFrame\n",
            "Columns: [CustomerID, Genre, Age, AnnualIncome, SpendingScore]\n",
            "Index: []\n"
          ]
        }
      ]
    },
    {
      "cell_type": "code",
      "source": [
        "qry = \"SELECT * FROM MALL_DB4 WHERE SpendingScore >55\"\n",
        "d= pd.read_sql_query(qry,db1)\n",
        "print(d.shape)\n",
        "print(d.head())\n",
        "print(d)"
      ],
      "metadata": {
        "colab": {
          "base_uri": "https://localhost:8080/"
        },
        "id": "kkJtod-BDtRo",
        "outputId": "95142ca2-9d92-4e10-bdf3-2e0a177f5d41"
      },
      "execution_count": null,
      "outputs": [
        {
          "output_type": "stream",
          "name": "stdout",
          "text": [
            "(0, 5)\n",
            "Empty DataFrame\n",
            "Columns: [CustomerID, Genre, Age, AnnualIncome, SpendingScore]\n",
            "Index: []\n",
            "Empty DataFrame\n",
            "Columns: [CustomerID, Genre, Age, AnnualIncome, SpendingScore]\n",
            "Index: []\n"
          ]
        }
      ]
    },
    {
      "cell_type": "code",
      "source": [],
      "metadata": {
        "id": "dd9JYN0FFrsa"
      },
      "execution_count": null,
      "outputs": []
    }
  ]
}